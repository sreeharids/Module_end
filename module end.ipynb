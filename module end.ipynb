{
 "cells": [
  {
   "cell_type": "markdown",
   "id": "2d93fef0",
   "metadata": {},
   "source": [
    "# Module End Project"
   ]
  },
  {
   "cell_type": "code",
   "execution_count": 2,
   "id": "2d51012c",
   "metadata": {},
   "outputs": [],
   "source": [
    "import pandas as pd\n",
    "import numpy as np\n",
    "import matplotlib.pyplot as plt"
   ]
  },
  {
   "cell_type": "code",
   "execution_count": 3,
   "id": "cef3a6fb",
   "metadata": {},
   "outputs": [
    {
     "data": {
      "text/html": [
       "<div>\n",
       "<style scoped>\n",
       "    .dataframe tbody tr th:only-of-type {\n",
       "        vertical-align: middle;\n",
       "    }\n",
       "\n",
       "    .dataframe tbody tr th {\n",
       "        vertical-align: top;\n",
       "    }\n",
       "\n",
       "    .dataframe thead th {\n",
       "        text-align: right;\n",
       "    }\n",
       "</style>\n",
       "<table border=\"1\" class=\"dataframe\">\n",
       "  <thead>\n",
       "    <tr style=\"text-align: right;\">\n",
       "      <th></th>\n",
       "      <th>Name</th>\n",
       "      <th>Team</th>\n",
       "      <th>Number</th>\n",
       "      <th>Position</th>\n",
       "      <th>Age</th>\n",
       "      <th>Height</th>\n",
       "      <th>Weight</th>\n",
       "      <th>College</th>\n",
       "      <th>Salary</th>\n",
       "    </tr>\n",
       "  </thead>\n",
       "  <tbody>\n",
       "    <tr>\n",
       "      <th>0</th>\n",
       "      <td>Avery Bradley</td>\n",
       "      <td>Boston Celtics</td>\n",
       "      <td>0</td>\n",
       "      <td>PG</td>\n",
       "      <td>25</td>\n",
       "      <td>06-Feb</td>\n",
       "      <td>180</td>\n",
       "      <td>Texas</td>\n",
       "      <td>7730337.0</td>\n",
       "    </tr>\n",
       "    <tr>\n",
       "      <th>1</th>\n",
       "      <td>Jae Crowder</td>\n",
       "      <td>Boston Celtics</td>\n",
       "      <td>99</td>\n",
       "      <td>SF</td>\n",
       "      <td>25</td>\n",
       "      <td>06-Jun</td>\n",
       "      <td>235</td>\n",
       "      <td>Marquette</td>\n",
       "      <td>6796117.0</td>\n",
       "    </tr>\n",
       "    <tr>\n",
       "      <th>2</th>\n",
       "      <td>John Holland</td>\n",
       "      <td>Boston Celtics</td>\n",
       "      <td>30</td>\n",
       "      <td>SG</td>\n",
       "      <td>27</td>\n",
       "      <td>06-May</td>\n",
       "      <td>205</td>\n",
       "      <td>Boston University</td>\n",
       "      <td>NaN</td>\n",
       "    </tr>\n",
       "    <tr>\n",
       "      <th>3</th>\n",
       "      <td>R.J. Hunter</td>\n",
       "      <td>Boston Celtics</td>\n",
       "      <td>28</td>\n",
       "      <td>SG</td>\n",
       "      <td>22</td>\n",
       "      <td>06-May</td>\n",
       "      <td>185</td>\n",
       "      <td>Georgia State</td>\n",
       "      <td>1148640.0</td>\n",
       "    </tr>\n",
       "    <tr>\n",
       "      <th>4</th>\n",
       "      <td>Jonas Jerebko</td>\n",
       "      <td>Boston Celtics</td>\n",
       "      <td>8</td>\n",
       "      <td>PF</td>\n",
       "      <td>29</td>\n",
       "      <td>06-Oct</td>\n",
       "      <td>231</td>\n",
       "      <td>NaN</td>\n",
       "      <td>5000000.0</td>\n",
       "    </tr>\n",
       "  </tbody>\n",
       "</table>\n",
       "</div>"
      ],
      "text/plain": [
       "            Name            Team  Number Position  Age  Height  Weight  \\\n",
       "0  Avery Bradley  Boston Celtics       0       PG   25  06-Feb     180   \n",
       "1    Jae Crowder  Boston Celtics      99       SF   25  06-Jun     235   \n",
       "2   John Holland  Boston Celtics      30       SG   27  06-May     205   \n",
       "3    R.J. Hunter  Boston Celtics      28       SG   22  06-May     185   \n",
       "4  Jonas Jerebko  Boston Celtics       8       PF   29  06-Oct     231   \n",
       "\n",
       "             College     Salary  \n",
       "0              Texas  7730337.0  \n",
       "1          Marquette  6796117.0  \n",
       "2  Boston University        NaN  \n",
       "3      Georgia State  1148640.0  \n",
       "4                NaN  5000000.0  "
      ]
     },
     "execution_count": 3,
     "metadata": {},
     "output_type": "execute_result"
    }
   ],
   "source": [
    "df = pd.read_csv('moduleEnd.csv')\n",
    "df.head()"
   ]
  },
  {
   "cell_type": "code",
   "execution_count": 5,
   "id": "fbee7400",
   "metadata": {},
   "outputs": [
    {
     "name": "stdout",
     "output_type": "stream",
     "text": [
      "            Name            Team  Number Position  Age  Height  Weight  \\\n",
      "0  Avery Bradley  Boston Celtics       0       PG   25     156     180   \n",
      "1    Jae Crowder  Boston Celtics      99       SF   25     151     235   \n",
      "2   John Holland  Boston Celtics      30       SG   27     167     205   \n",
      "3    R.J. Hunter  Boston Celtics      28       SG   22     178     185   \n",
      "4  Jonas Jerebko  Boston Celtics       8       PF   29     164     231   \n",
      "\n",
      "             College     Salary  \n",
      "0              Texas  7730337.0  \n",
      "1          Marquette  6796117.0  \n",
      "2  Boston University             \n",
      "3      Georgia State  1148640.0  \n",
      "4                     5000000.0  \n"
     ]
    }
   ],
   "source": [
    "df['Height']=np.random.randint(150,181,size=len(df))\n",
    "df.fillna('',inplace=True)\n",
    "print(df.head())"
   ]
  },
  {
   "cell_type": "markdown",
   "id": "101f10d7",
   "metadata": {},
   "source": [
    "### 1.HOW MANY ARE THERE IN EACH TEAM AND THE PERCENTAGE SPLITTING WITH RESPECT TO THE TOTAL EMPLOYEE"
   ]
  },
  {
   "cell_type": "code",
   "execution_count": 12,
   "id": "3d1d643d",
   "metadata": {},
   "outputs": [
    {
     "name": "stdout",
     "output_type": "stream",
     "text": [
      "Team\n",
      "Atlanta Hawks             3.275109\n",
      "Boston Celtics            3.275109\n",
      "Brooklyn Nets             3.275109\n",
      "Charlotte Hornets         3.275109\n",
      "Chicago Bulls             3.275109\n",
      "Cleveland Cavaliers       3.275109\n",
      "Dallas Mavericks          3.275109\n",
      "Denver Nuggets            3.275109\n",
      "Detroit Pistons           3.275109\n",
      "Golden State Warriors     3.275109\n",
      "Houston Rockets           3.275109\n",
      "Indiana Pacers            3.275109\n",
      "Los Angeles Clippers      3.275109\n",
      "Los Angeles Lakers        3.275109\n",
      "Memphis Grizzlies         3.930131\n",
      "Miami Heat                3.275109\n",
      "Milwaukee Bucks           3.493450\n",
      "Minnesota Timberwolves    3.056769\n",
      "New Orleans Pelicans      4.148472\n",
      "New York Knicks           3.493450\n",
      "Oklahoma City Thunder     3.275109\n",
      "Orlando Magic             3.056769\n",
      "Philadelphia 76ers        3.275109\n",
      "Phoenix Suns              3.275109\n",
      "Portland Trail Blazers    3.275109\n",
      "Sacramento Kings          3.275109\n",
      "San Antonio Spurs         3.275109\n",
      "Toronto Raptors           3.275109\n",
      "Utah Jazz                 3.493450\n",
      "Washington Wizards        3.275109\n",
      "dtype: float64\n"
     ]
    }
   ],
   "source": [
    "team_counts=df.groupby('Team').size()\n",
    "team_percentage=(team_counts/len(df)) * 100\n",
    "print(team_percentage)"
   ]
  },
  {
   "cell_type": "markdown",
   "id": "cf9941ac",
   "metadata": {},
   "source": [
    "### 2.SEGRAGATE THE EMPLOYEES WITH RESPECT TO DIFFRENT POSITION"
   ]
  },
  {
   "cell_type": "code",
   "execution_count": 13,
   "id": "9c563edc",
   "metadata": {},
   "outputs": [
    {
     "name": "stdout",
     "output_type": "stream",
     "text": [
      "SG    102\n",
      "PF    100\n",
      "PG     92\n",
      "SF     85\n",
      "C      79\n",
      "Name: Position, dtype: int64\n"
     ]
    }
   ],
   "source": [
    "position_counts=df['Position'].value_counts()\n",
    "print(position_counts)"
   ]
  },
  {
   "cell_type": "markdown",
   "id": "ea77551d",
   "metadata": {},
   "source": [
    "### 3. FIND THE AGE GROUP WITH THE MOST EMPLOYEES"
   ]
  },
  {
   "cell_type": "code",
   "execution_count": 16,
   "id": "026e9337",
   "metadata": {},
   "outputs": [
    {
     "name": "stdout",
     "output_type": "stream",
     "text": [
      "Age group most employees belong to: 24\n"
     ]
    }
   ],
   "source": [
    "age_count=df['Age'].value_counts()\n",
    "print(\"Age group most employees belong to:\",age_count.idxmax())"
   ]
  },
  {
   "cell_type": "code",
   "execution_count": 17,
   "id": "da066031",
   "metadata": {},
   "outputs": [
    {
     "name": "stdout",
     "output_type": "stream",
     "text": [
      "Number of employees: 47\n"
     ]
    }
   ],
   "source": [
    "print(\"Number of employees:\",age_count.max())"
   ]
  },
  {
   "cell_type": "markdown",
   "id": "7f0ecb54",
   "metadata": {},
   "source": [
    "### 4.Find out under which team and position, spending in terms of salary is high."
   ]
  },
  {
   "cell_type": "code",
   "execution_count": 19,
   "id": "392b1dc7",
   "metadata": {},
   "outputs": [
    {
     "name": "stdout",
     "output_type": "stream",
     "text": [
      "Team with highest spending: Los Angeles Lakers\n",
      "Position with highest spending: SF\n"
     ]
    }
   ],
   "source": [
    "\n",
    "df['Salary'] = pd.to_numeric(df['Salary'])\n",
    "highest_spending_team, highest_spending_position = df.groupby(['Team', 'Position'])['Salary'].sum().idxmax()\n",
    "\n",
    "print(\"Team with highest spending:\", highest_spending_team)\n",
    "print(\"Position with highest spending:\", highest_spending_position)\n"
   ]
  },
  {
   "cell_type": "markdown",
   "id": "e3b7c670",
   "metadata": {},
   "source": [
    "### 5.FIND IF THERE IS ANY CORRECTION BETWEEN AGE AND SALARY ,REPRESENT IT VISUALLY"
   ]
  },
  {
   "cell_type": "code",
   "execution_count": 20,
   "id": "56f17379",
   "metadata": {
    "scrolled": true
   },
   "outputs": [
    {
     "data": {
      "text/plain": [
       "<Axes: xlabel='Age', ylabel='Salary'>"
      ]
     },
     "execution_count": 20,
     "metadata": {},
     "output_type": "execute_result"
    },
    {
     "data": {
      "image/png": "[encoded data removed]",
      "text/plain": [
       "<Figure size 640x480 with 1 Axes>"
      ]
     },
     "metadata": {},
     "output_type": "display_data"
    }
   ],
   "source": [
    "df.plot.scatter(x='Age',y='Salary')"
   ]
  }
 ],
 "metadata": {
  "kernelspec": {
   "display_name": "Python 3 (ipykernel)",
   "language": "python",
   "name": "python3"
  },
  "language_info": {
   "codemirror_mode": {
    "name": "ipython",
    "version": 3
   },
   "file_extension": ".py",
   "mimetype": "text/x-python",
   "name": "python",
   "nbconvert_exporter": "python",
   "pygments_lexer": "ipython3",
   "version": "3.10.9"
  }
 },
 "nbformat": 4,
 "nbformat_minor": 5
}
